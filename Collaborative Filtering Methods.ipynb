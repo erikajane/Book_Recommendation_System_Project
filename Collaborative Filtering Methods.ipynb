{
 "cells": [
  {
   "cell_type": "code",
   "execution_count": 1,
   "metadata": {},
   "outputs": [],
   "source": [
    "# Import Necessary Libraries\n",
    "\n",
    "import pandas as pd\n",
    "from surprise import Dataset, Reader\n",
    "from surprise.model_selection import cross_validate, train_test_split\n",
    "from surprise.prediction_algorithms import knns\n",
    "from surprise.similarities import cosine, msd, pearson\n",
    "from surprise import accuracy\n",
    "#from surprise import SVD\n",
    "from surprise.prediction_algorithms import SVD\n",
    "from surprise.model_selection import GridSearchCV\n"
   ]
  },
  {
   "cell_type": "code",
   "execution_count": 2,
   "metadata": {},
   "outputs": [
    {
     "data": {
      "text/html": [
       "<div>\n",
       "<style scoped>\n",
       "    .dataframe tbody tr th:only-of-type {\n",
       "        vertical-align: middle;\n",
       "    }\n",
       "\n",
       "    .dataframe tbody tr th {\n",
       "        vertical-align: top;\n",
       "    }\n",
       "\n",
       "    .dataframe thead th {\n",
       "        text-align: right;\n",
       "    }\n",
       "</style>\n",
       "<table border=\"1\" class=\"dataframe\">\n",
       "  <thead>\n",
       "    <tr style=\"text-align: right;\">\n",
       "      <th></th>\n",
       "      <th>user_id</th>\n",
       "      <th>book_id</th>\n",
       "      <th>rating</th>\n",
       "      <th>authors</th>\n",
       "      <th>title</th>\n",
       "      <th>language_code</th>\n",
       "      <th>average_rating</th>\n",
       "      <th>tag</th>\n",
       "    </tr>\n",
       "  </thead>\n",
       "  <tbody>\n",
       "    <tr>\n",
       "      <th>0</th>\n",
       "      <td>1</td>\n",
       "      <td>258</td>\n",
       "      <td>5</td>\n",
       "      <td>Carlos Ruiz Zafón, Lucia Graves</td>\n",
       "      <td>The Shadow of the Wind (The Cemetery of Forgot...</td>\n",
       "      <td>eng</td>\n",
       "      <td>4.24</td>\n",
       "      <td>wish-list</td>\n",
       "    </tr>\n",
       "    <tr>\n",
       "      <th>1</th>\n",
       "      <td>2</td>\n",
       "      <td>4081</td>\n",
       "      <td>4</td>\n",
       "      <td>Tom Wolfe</td>\n",
       "      <td>I am Charlotte Simmons</td>\n",
       "      <td>en-US</td>\n",
       "      <td>3.40</td>\n",
       "      <td>young-adult</td>\n",
       "    </tr>\n",
       "    <tr>\n",
       "      <th>2</th>\n",
       "      <td>2</td>\n",
       "      <td>260</td>\n",
       "      <td>5</td>\n",
       "      <td>Dale Carnegie</td>\n",
       "      <td>How to Win Friends and Influence People</td>\n",
       "      <td>eng</td>\n",
       "      <td>4.13</td>\n",
       "      <td>تنمية-بشرية</td>\n",
       "    </tr>\n",
       "    <tr>\n",
       "      <th>3</th>\n",
       "      <td>2</td>\n",
       "      <td>9296</td>\n",
       "      <td>5</td>\n",
       "      <td>Alice  Miller, Ruth Ward</td>\n",
       "      <td>The Drama of the Gifted Child: The Search for ...</td>\n",
       "      <td>en-GB</td>\n",
       "      <td>4.09</td>\n",
       "      <td>wish-list</td>\n",
       "    </tr>\n",
       "    <tr>\n",
       "      <th>4</th>\n",
       "      <td>2</td>\n",
       "      <td>2318</td>\n",
       "      <td>3</td>\n",
       "      <td>Thomas J. Stanley, William D. Danko</td>\n",
       "      <td>The Millionaire Next Door: The Surprising Secr...</td>\n",
       "      <td>eng</td>\n",
       "      <td>4.00</td>\n",
       "      <td>wish-list</td>\n",
       "    </tr>\n",
       "  </tbody>\n",
       "</table>\n",
       "</div>"
      ],
      "text/plain": [
       "   user_id  book_id  rating                              authors  \\\n",
       "0        1      258       5      Carlos Ruiz Zafón, Lucia Graves   \n",
       "1        2     4081       4                            Tom Wolfe   \n",
       "2        2      260       5                        Dale Carnegie   \n",
       "3        2     9296       5             Alice  Miller, Ruth Ward   \n",
       "4        2     2318       3  Thomas J. Stanley, William D. Danko   \n",
       "\n",
       "                                               title language_code  \\\n",
       "0  The Shadow of the Wind (The Cemetery of Forgot...           eng   \n",
       "1                             I am Charlotte Simmons         en-US   \n",
       "2            How to Win Friends and Influence People           eng   \n",
       "3  The Drama of the Gifted Child: The Search for ...         en-GB   \n",
       "4  The Millionaire Next Door: The Surprising Secr...           eng   \n",
       "\n",
       "   average_rating          tag  \n",
       "0            4.24    wish-list  \n",
       "1            3.40  young-adult  \n",
       "2            4.13  تنمية-بشرية  \n",
       "3            4.09    wish-list  \n",
       "4            4.00    wish-list  "
      ]
     },
     "execution_count": 2,
     "metadata": {},
     "output_type": "execute_result"
    }
   ],
   "source": [
    "# Import and Preview 'clean_df.csv'\n",
    "\n",
    "df = pd.read_csv('cleaned_df.csv')\n",
    "df.head()"
   ]
  },
  {
   "cell_type": "code",
   "execution_count": 3,
   "metadata": {},
   "outputs": [
    {
     "name": "stdout",
     "output_type": "stream",
     "text": [
      "<class 'pandas.core.frame.DataFrame'>\n",
      "RangeIndex: 5976479 entries, 0 to 5976478\n",
      "Data columns (total 8 columns):\n",
      "user_id           int64\n",
      "book_id           int64\n",
      "rating            int64\n",
      "authors           object\n",
      "title             object\n",
      "language_code     object\n",
      "average_rating    float64\n",
      "tag               object\n",
      "dtypes: float64(1), int64(3), object(4)\n",
      "memory usage: 364.8+ MB\n"
     ]
    }
   ],
   "source": [
    "df.info()"
   ]
  },
  {
   "cell_type": "markdown",
   "metadata": {},
   "source": [
    "# Collaborative Methods"
   ]
  },
  {
   "cell_type": "code",
   "execution_count": 4,
   "metadata": {},
   "outputs": [],
   "source": [
    "# Collaborative Methods only utilize three features (user id, item id and rating) so we will only load in\n",
    "# 'user_id', 'book_id' and 'rating' into the dataset\n",
    "# Read in values as Surprise Dataset\n",
    "\n",
    "reader = Reader()\n",
    "data = Dataset.load_from_df(df[['user_id','book_id','rating']],reader)"
   ]
  },
  {
   "cell_type": "code",
   "execution_count": 5,
   "metadata": {},
   "outputs": [],
   "source": [
    "# Split data into training and testing sets\n",
    "\n",
    "train, test = train_test_split(data, test_size = .2)"
   ]
  },
  {
   "cell_type": "code",
   "execution_count": 6,
   "metadata": {},
   "outputs": [
    {
     "name": "stdout",
     "output_type": "stream",
     "text": [
      "1195296\n",
      "(7383, 30, 5.0)\n"
     ]
    }
   ],
   "source": [
    "# View the size of the test set and what it contains\n",
    "\n",
    "print(len(test))\n",
    "print(test[0]) # Format is (user_id, book_id, rating)"
   ]
  },
  {
   "cell_type": "markdown",
   "metadata": {},
   "source": [
    "## Memory-Based/Neighborhood-Based Collaborative Filtering"
   ]
  },
  {
   "cell_type": "markdown",
   "metadata": {},
   "source": [
    "### Similarity Metrics"
   ]
  },
  {
   "cell_type": "code",
   "execution_count": 7,
   "metadata": {},
   "outputs": [
    {
     "name": "stdout",
     "output_type": "stream",
     "text": [
      "Number of users:  53424\n",
      "Number of items:  10000\n"
     ]
    }
   ],
   "source": [
    "# When modeling we need to use either user-user similarity or item-tem similarity\n",
    "# Since there are less items than there are users we will use item-item similarity to save computation time\n",
    "\n",
    "print('Number of users: ',train.n_users)\n",
    "print('Number of items: ',train.n_items)"
   ]
  },
  {
   "cell_type": "code",
   "execution_count": 8,
   "metadata": {},
   "outputs": [],
   "source": [
    "# Create parameters for models with different similarity metrics, cosine and pearson\n",
    "# Since we are using item-item similarity, 'user_based' is set to False\n",
    "\n",
    "cosine_sim = {'name':'cosine','user_based':False}\n",
    "pearson_sim = {'name':'pearson','user_based':False}"
   ]
  },
  {
   "cell_type": "code",
   "execution_count": 9,
   "metadata": {},
   "outputs": [],
   "source": [
    "# Create function to run models\n",
    "\n",
    "def run_model(model_type, sim_metric):\n",
    "    model = model_type(sim_options=sim_metric)\n",
    "    model.fit(train)\n",
    "    model.summary()\n",
    "    predictions = model.test(test)\n",
    "    accuracy.rmse(predictions)"
   ]
  },
  {
   "cell_type": "markdown",
   "metadata": {},
   "source": [
    "### Model: Basic KNN"
   ]
  },
  {
   "cell_type": "markdown",
   "metadata": {},
   "source": [
    "#### Basic KNN with Cosine Similarity"
   ]
  },
  {
   "cell_type": "code",
   "execution_count": 11,
   "metadata": {},
   "outputs": [
    {
     "name": "stdout",
     "output_type": "stream",
     "text": [
      "Computing the cosine similarity matrix...\n",
      "Done computing similarity matrix.\n",
      "RMSE: 0.8820\n"
     ]
    }
   ],
   "source": [
    "# Run the Basic KNN model with Cosine Similarity\n",
    "\n",
    "run_model(knns.KNNBasic, cosine_sim)"
   ]
  },
  {
   "cell_type": "markdown",
   "metadata": {},
   "source": [
    "#### KNN Basic with Pearson Similarity"
   ]
  },
  {
   "cell_type": "code",
   "execution_count": 12,
   "metadata": {},
   "outputs": [
    {
     "name": "stdout",
     "output_type": "stream",
     "text": [
      "Computing the pearson similarity matrix...\n",
      "Done computing similarity matrix.\n",
      "RMSE: 0.8723\n"
     ]
    }
   ],
   "source": [
    "# Run the Basic KNN model with Pearson Similarity\n",
    "\n",
    "run_model(knns.KNNBasic, pearson_sim)"
   ]
  },
  {
   "cell_type": "markdown",
   "metadata": {},
   "source": [
    "### Model: KNN with Means"
   ]
  },
  {
   "cell_type": "markdown",
   "metadata": {},
   "source": [
    "#### KNN with Means with Cosine Similarity"
   ]
  },
  {
   "cell_type": "code",
   "execution_count": 13,
   "metadata": {},
   "outputs": [
    {
     "name": "stdout",
     "output_type": "stream",
     "text": [
      "Computing the cosine similarity matrix...\n",
      "Done computing similarity matrix.\n",
      "RMSE: 0.8480\n"
     ]
    }
   ],
   "source": [
    "# Run the KNN with Means model with Cosine Similarity\n",
    "\n",
    "run_model(knns.KNNWithMeans, cosine_sim)"
   ]
  },
  {
   "cell_type": "markdown",
   "metadata": {},
   "source": [
    "#### KNN with Means with Pearson Similarity"
   ]
  },
  {
   "cell_type": "code",
   "execution_count": 14,
   "metadata": {},
   "outputs": [
    {
     "name": "stdout",
     "output_type": "stream",
     "text": [
      "Computing the pearson similarity matrix...\n",
      "Done computing similarity matrix.\n",
      "RMSE: 0.8404\n"
     ]
    }
   ],
   "source": [
    "# Run the KNN with Means model with Pearson Similarity\n",
    "\n",
    "run_model(knns.KNNWithMeans, pearson_sim)"
   ]
  },
  {
   "cell_type": "markdown",
   "metadata": {},
   "source": [
    "### Model: KNN Baseline"
   ]
  },
  {
   "cell_type": "markdown",
   "metadata": {},
   "source": [
    "#### KNN Baseline with Cosine Similarity"
   ]
  },
  {
   "cell_type": "code",
   "execution_count": 15,
   "metadata": {},
   "outputs": [
    {
     "name": "stdout",
     "output_type": "stream",
     "text": [
      "Estimating biases using als...\n",
      "Computing the cosine similarity matrix...\n",
      "Done computing similarity matrix.\n",
      "RMSE: 0.8442\n"
     ]
    }
   ],
   "source": [
    "# Run the KNN Baseline model with Cosine Similarity\n",
    "\n",
    "run_model(knns.KNNBaseline, cosine_sim)"
   ]
  },
  {
   "cell_type": "markdown",
   "metadata": {},
   "source": [
    "#### KNN Baseline with Pearson Similarity"
   ]
  },
  {
   "cell_type": "code",
   "execution_count": 16,
   "metadata": {},
   "outputs": [
    {
     "name": "stdout",
     "output_type": "stream",
     "text": [
      "Estimating biases using als...\n",
      "Computing the pearson similarity matrix...\n",
      "Done computing similarity matrix.\n",
      "RMSE: 0.8369\n"
     ]
    }
   ],
   "source": [
    "# Run the KNN Baseline model with Cosine Similarity\n",
    "\n",
    "run_model(knns.KNNBaseline, pearson_sim)"
   ]
  },
  {
   "cell_type": "markdown",
   "metadata": {},
   "source": [
    "## Model-Based (Matrix Factorization) Collaborative Filtering"
   ]
  },
  {
   "cell_type": "markdown",
   "metadata": {},
   "source": [
    "### Model: Singular Value Decomposition (SVD)"
   ]
  },
  {
   "cell_type": "code",
   "execution_count": 17,
   "metadata": {},
   "outputs": [
    {
     "name": "stdout",
     "output_type": "stream",
     "text": [
      "RMSE: 0.8301\n"
     ]
    },
    {
     "data": {
      "text/plain": [
       "0.8301182069151432"
      ]
     },
     "execution_count": 17,
     "metadata": {},
     "output_type": "execute_result"
    }
   ],
   "source": [
    "# Run a baseline SVD Model\n",
    "\n",
    "svd = SVD()\n",
    "svd.fit(train)\n",
    "predictions = svd.test(test)\n",
    "accuracy.rmse(predictions)"
   ]
  },
  {
   "cell_type": "code",
   "execution_count": 18,
   "metadata": {},
   "outputs": [
    {
     "data": {
      "text/plain": [
       "Prediction(uid='34', iid='25', r_ui=None, est=3.9193218498434383, details={'was_impossible': False})"
      ]
     },
     "execution_count": 18,
     "metadata": {},
     "output_type": "execute_result"
    }
   ],
   "source": [
    "#making a prediction for user 34 and item 25 \n",
    "user_34_prediction = svd.predict('34','25')\n",
    "user_34_prediction"
   ]
  },
  {
   "cell_type": "code",
   "execution_count": 19,
   "metadata": {},
   "outputs": [
    {
     "data": {
      "text/plain": [
       "3.9193218498434383"
      ]
     },
     "execution_count": 19,
     "metadata": {},
     "output_type": "execute_result"
    }
   ],
   "source": [
    "user_34_prediction[3]"
   ]
  },
  {
   "cell_type": "code",
   "execution_count": 20,
   "metadata": {},
   "outputs": [
    {
     "name": "stdout",
     "output_type": "stream",
     "text": [
      "user: 196        item: 302        r_ui = 4.00   est = 3.92   {'was_impossible': False}\n"
     ]
    }
   ],
   "source": [
    "# View an example prediction\n",
    "\n",
    "uid = str(196)  # user_id 196\n",
    "iid = str(302)  # book_id 302\n",
    "\n",
    "# Predict how user 196 (user_id=196) would rate book 302 (book_id=302)\n",
    "\n",
    "pred = svd.predict(uid, iid, r_ui=4, verbose=True)"
   ]
  },
  {
   "cell_type": "code",
   "execution_count": null,
   "metadata": {},
   "outputs": [],
   "source": []
  }
 ],
 "metadata": {
  "kernelspec": {
   "display_name": "Python 3",
   "language": "python",
   "name": "python3"
  },
  "language_info": {
   "codemirror_mode": {
    "name": "ipython",
    "version": 3
   },
   "file_extension": ".py",
   "mimetype": "text/x-python",
   "name": "python",
   "nbconvert_exporter": "python",
   "pygments_lexer": "ipython3",
   "version": "3.7.3"
  }
 },
 "nbformat": 4,
 "nbformat_minor": 2
}
